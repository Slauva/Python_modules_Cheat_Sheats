{
 "cells": [
  {
   "cell_type": "code",
   "execution_count": 1,
   "metadata": {
    "collapsed": true
   },
   "outputs": [],
   "source": [
    "import cv2 as cv"
   ]
  },
  {
   "cell_type": "markdown",
   "source": [
    "# Rescale and Resize"
   ],
   "metadata": {
    "collapsed": false
   }
  },
  {
   "cell_type": "code",
   "execution_count": 2,
   "outputs": [],
   "source": [
    "def rescale_frame(frame, scale=0.75):\n",
    "    width = int(frame.shape[1] * scale)\n",
    "    height = int(frame.shape[0] * scale)\n",
    "    dimensions = (width, height)\n",
    "\n",
    "    return cv.resize(frame, dimensions, interpolation=cv.INTER_AREA)"
   ],
   "metadata": {
    "collapsed": false
   }
  },
  {
   "cell_type": "markdown",
   "source": [
    "## Image Rescaling"
   ],
   "metadata": {
    "collapsed": false
   }
  },
  {
   "cell_type": "code",
   "execution_count": 3,
   "outputs": [],
   "source": [
    "img = cv.imread(\"assets/artags/01.jpg\")\n",
    "cv.imshow(\"Without rescaling\", img)\n",
    "cv.imshow(\"With rescaling into the 75%\", rescale_frame(img))\n",
    "cv.waitKey(0)\n",
    "cv.destroyAllWindows()"
   ],
   "metadata": {
    "collapsed": false
   }
  },
  {
   "cell_type": "markdown",
   "source": [
    "## Video Rescaling"
   ],
   "metadata": {
    "collapsed": false
   }
  },
  {
   "cell_type": "code",
   "execution_count": 5,
   "outputs": [],
   "source": [
    "cap = cv.VideoCapture(\"assets/videos/20_1.mp4\")\n",
    "\n",
    "# Test is camera working\n",
    "while cap.isOpened():\n",
    "    success, frame = cap.read()\n",
    "\n",
    "    # Check is video stream stable to get data\n",
    "    if not success:\n",
    "        print(\"The video stream has been breaking. Exiting...\")\n",
    "\n",
    "    # Rescale frame\n",
    "    resize = rescale_frame(frame, 0.3)\n",
    "\n",
    "    # Show the frame\n",
    "    cv.imshow(\"Video stream\", frame)\n",
    "    cv.imshow(\"Video stream with rescaling\", resize)\n",
    "\n",
    "    # Checking the keyboard to finish the stream\n",
    "    if cv.waitKey(20) & 0xFF == ord(\"q\"):\n",
    "        break\n",
    "\n",
    "# Release the video\n",
    "cap.release()\n",
    "\n",
    "# Destroy all windows\n",
    "cv.destroyAllWindows()"
   ],
   "metadata": {
    "collapsed": false
   }
  },
  {
   "cell_type": "code",
   "execution_count": null,
   "outputs": [],
   "source": [],
   "metadata": {
    "collapsed": false
   }
  }
 ],
 "metadata": {
  "kernelspec": {
   "display_name": "Python 3",
   "language": "python",
   "name": "python3"
  },
  "language_info": {
   "codemirror_mode": {
    "name": "ipython",
    "version": 2
   },
   "file_extension": ".py",
   "mimetype": "text/x-python",
   "name": "python",
   "nbconvert_exporter": "python",
   "pygments_lexer": "ipython2",
   "version": "2.7.6"
  }
 },
 "nbformat": 4,
 "nbformat_minor": 0
}
