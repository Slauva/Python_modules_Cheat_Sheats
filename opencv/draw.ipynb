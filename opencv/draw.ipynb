{
 "cells": [
  {
   "cell_type": "code",
   "execution_count": 9,
   "metadata": {
    "collapsed": true
   },
   "outputs": [],
   "source": [
    "import cv2 as cv\n",
    "import numpy as np"
   ]
  },
  {
   "cell_type": "markdown",
   "source": [
    "## Draw image from numpy 2d array"
   ],
   "metadata": {
    "collapsed": false
   }
  },
  {
   "cell_type": "code",
   "execution_count": 10,
   "outputs": [],
   "source": [
    "# Create and show image\n",
    "blank = np.zeros((500, 500), dtype=\"uint8\")\n",
    "cv.imshow(\"Blank image\", blank)\n",
    "\n",
    "# Close the image\n",
    "cv.waitKey(0)\n",
    "cv.destroyAllWindows()"
   ],
   "metadata": {
    "collapsed": false
   }
  },
  {
   "cell_type": "markdown",
   "source": [
    "Paint the image a certain colour\n",
    "\n",
    "In the opencv frames set the colour pallet BGR is the same into the pixel (Blue, Green, Red)"
   ],
   "metadata": {
    "collapsed": false
   }
  },
  {
   "cell_type": "code",
   "execution_count": 11,
   "outputs": [],
   "source": [
    "# Create and show image\n",
    "green = np.zeros((500, 500, 3), dtype=\"uint8\")\n",
    "green[:] = 0, 255, 0\n",
    "cv.imshow(\"Green blank image\", green)\n",
    "\n",
    "square = np.zeros((500, 500, 3), dtype=\"uint8\")\n",
    "square[200:300, 300:400] = 255, 0, 0\n",
    "cv.imshow(\"Blue square image\", square)\n",
    "\n",
    "# Close the image\n",
    "cv.waitKey(0)\n",
    "cv.destroyAllWindows()"
   ],
   "metadata": {
    "collapsed": false
   }
  },
  {
   "cell_type": "markdown",
   "source": [
    "Draw the rectangle\n",
    "\n",
    "The rectangle method - draw the figure with parameters: `cv.rectangle(frame, point1=(x1, y1), point2=(x2, y2), color=(Blue, Green, Red), thickness=Number)`"
   ],
   "metadata": {
    "collapsed": false
   }
  },
  {
   "cell_type": "code",
   "execution_count": 22,
   "outputs": [],
   "source": [
    "# Create and show image\n",
    "blank = np.zeros((500, 500, 3), dtype=\"uint8\")\n",
    "\n",
    "cv.rectangle(blank, (0, 0), (250, 250), (0, 255, 0), thickness=1)\n",
    "cv.imshow(\"Rectangle image\", blank)\n",
    "\n",
    "# Close the image\n",
    "cv.waitKey(0)\n",
    "cv.destroyAllWindows()"
   ],
   "metadata": {
    "collapsed": false
   }
  },
  {
   "cell_type": "code",
   "execution_count": null,
   "outputs": [],
   "source": [],
   "metadata": {
    "collapsed": false
   }
  }
 ],
 "metadata": {
  "kernelspec": {
   "display_name": "Python 3",
   "language": "python",
   "name": "python3"
  },
  "language_info": {
   "codemirror_mode": {
    "name": "ipython",
    "version": 2
   },
   "file_extension": ".py",
   "mimetype": "text/x-python",
   "name": "python",
   "nbconvert_exporter": "python",
   "pygments_lexer": "ipython2",
   "version": "2.7.6"
  }
 },
 "nbformat": 4,
 "nbformat_minor": 0
}
