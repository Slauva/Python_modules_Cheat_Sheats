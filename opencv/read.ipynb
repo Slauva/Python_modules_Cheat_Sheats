{
 "cells": [
  {
   "cell_type": "code",
   "execution_count": 10,
   "metadata": {
    "collapsed": true
   },
   "outputs": [],
   "source": [
    "import cv2 as cv"
   ]
  },
  {
   "cell_type": "markdown",
   "source": [
    "# Read image"
   ],
   "metadata": {
    "collapsed": false
   }
  },
  {
   "cell_type": "code",
   "execution_count": 11,
   "outputs": [],
   "source": [
    "image = cv.imread(\"assets/artags/01.jpg\")\n",
    "cv.imshow(\"Name\", image)\n",
    "cv.waitKey(0)\n",
    "cv.destroyAllWindows()"
   ],
   "metadata": {
    "collapsed": false
   }
  },
  {
   "cell_type": "markdown",
   "source": [
    "# Read Video\n",
    "\n",
    "Class `VideoCapture`\n",
    "\n",
    "This class we use to read video from the camera or video files. To see the video from the camera we need set up the number $0$ or another one. To watch the video we need to set up the path to the file.\n"
   ],
   "metadata": {
    "collapsed": false
   }
  },
  {
   "cell_type": "markdown",
   "source": [
    "## Read the camera video from your laptop"
   ],
   "metadata": {
    "collapsed": false
   }
  },
  {
   "cell_type": "code",
   "execution_count": 12,
   "outputs": [],
   "source": [
    "cap = cv.VideoCapture(0)\n",
    "\n",
    "# Test is camera working\n",
    "while cap.isOpened():\n",
    "    success, frame = cap.read()\n",
    "\n",
    "    # Check is video stream stable to get data\n",
    "    if not success:\n",
    "        print(\"The video stream has been breaking. Exiting...\")\n",
    "\n",
    "    # Show the frame\n",
    "    cv.imshow(\"Camera\", frame)\n",
    "\n",
    "    # Checking the keyboard to finish the stream\n",
    "    if cv.waitKey(20) & 0xFF == ord(\"q\"):\n",
    "        break\n",
    "\n",
    "# Release the video\n",
    "cap.release()\n",
    "\n",
    "# Destroy all windows\n",
    "cv.destroyAllWindows()"
   ],
   "metadata": {
    "collapsed": false
   }
  },
  {
   "cell_type": "markdown",
   "source": [
    "## Read the video from the directory `assets/videos`"
   ],
   "metadata": {
    "collapsed": false
   }
  },
  {
   "cell_type": "code",
   "execution_count": 13,
   "outputs": [],
   "source": [
    "cap = cv.VideoCapture(\"assets/videos/20_1.mp4\")\n",
    "\n",
    "# Test is camera working\n",
    "while cap.isOpened():\n",
    "    success, frame = cap.read()\n",
    "\n",
    "    # Check is video stream stable to get data\n",
    "    if not success:\n",
    "        print(\"The video stream has been breaking. Exiting...\")\n",
    "\n",
    "    # Show the frame\n",
    "    cv.imshow(\"Video stream\", frame)\n",
    "\n",
    "    # Checking the keyboard to finish the stream\n",
    "    if cv.waitKey(20) & 0xFF == ord(\"q\"):\n",
    "        break\n",
    "\n",
    "# Release the video\n",
    "cap.release()\n",
    "\n",
    "# Destroy all windows\n",
    "cv.destroyAllWindows()"
   ],
   "metadata": {
    "collapsed": false
   }
  }
 ],
 "metadata": {
  "kernelspec": {
   "display_name": "Python 3",
   "language": "python",
   "name": "python3"
  },
  "language_info": {
   "codemirror_mode": {
    "name": "ipython",
    "version": 2
   },
   "file_extension": ".py",
   "mimetype": "text/x-python",
   "name": "python",
   "nbconvert_exporter": "python",
   "pygments_lexer": "ipython2",
   "version": "2.7.6"
  }
 },
 "nbformat": 4,
 "nbformat_minor": 0
}
